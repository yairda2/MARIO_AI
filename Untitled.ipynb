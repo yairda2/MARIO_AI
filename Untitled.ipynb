{
 "cells": [
  {
   "cell_type": "markdown",
   "id": "03843dc5",
   "metadata": {},
   "source": [
    "# Setup"
   ]
  },
  {
   "cell_type": "code",
   "execution_count": 6,
   "id": "8cc05911",
   "metadata": {
    "collapsed": true,
    "jupyter": {
     "outputs_hidden": true
    },
    "tags": []
   },
   "outputs": [
    {
     "name": "stdout",
     "output_type": "stream",
     "text": [
      "Looking in indexes: https://pypi.org/simple, https://download.pytorch.org/whl/cu117\n",
      "Requirement already satisfied: torch in d:\\python310\\lib\\site-packages (1.13.0)\n",
      "Requirement already satisfied: torchvision in d:\\python310\\lib\\site-packages (0.14.0+cu117)\n",
      "Requirement already satisfied: torchaudio in d:\\python310\\lib\\site-packages (0.13.0+cu117)\n",
      "Requirement already satisfied: typing-extensions in d:\\python310\\lib\\site-packages (from torch) (4.4.0)\n",
      "Requirement already satisfied: numpy in d:\\python310\\lib\\site-packages (from torchvision) (1.23.5)\n",
      "Requirement already satisfied: requests in d:\\python310\\lib\\site-packages (from torchvision) (2.28.1)\n",
      "Requirement already satisfied: pillow!=8.3.*,>=5.3.0 in d:\\python310\\lib\\site-packages (from torchvision) (9.3.0)\n",
      "Requirement already satisfied: certifi>=2017.4.17 in d:\\python310\\lib\\site-packages (from requests->torchvision) (2022.9.24)\n",
      "Requirement already satisfied: urllib3<1.27,>=1.21.1 in d:\\python310\\lib\\site-packages (from requests->torchvision) (1.26.13)\n",
      "Requirement already satisfied: charset-normalizer<3,>=2 in d:\\python310\\lib\\site-packages (from requests->torchvision) (2.1.1)\n",
      "Requirement already satisfied: idna<4,>=2.5 in d:\\python310\\lib\\site-packages (from requests->torchvision) (3.4)\n"
     ]
    }
   ],
   "source": [
    "# !pip install gym_super_mario_bros==7.4.0 nes_py"
   ]
  },
  {
   "cell_type": "code",
   "execution_count": 5,
   "id": "ca309e17",
   "metadata": {},
   "outputs": [],
   "source": [
    "# Import the game\n",
    "import gym_super_mario_bros\n",
    "# Import the Joypad wrapper\n",
    "from nes_py.wrappers import JoypadSpace\n",
    "# Import the SIMPLIFIED controls\n",
    "from gym_super_mario_bros.actions import SIMPLE_MOVEMENT"
   ]
  },
  {
   "cell_type": "code",
   "execution_count": 3,
   "id": "46bbd97b",
   "metadata": {},
   "outputs": [],
   "source": [
    "# Setup game\n",
    "env = gym_super_mario_bros.make('SuperMarioBros-v0')\n",
    "env = JoypadSpace(env, SIMPLE_MOVEMENT)"
   ]
  },
  {
   "cell_type": "code",
   "execution_count": 4,
   "id": "6ffe3a4f",
   "metadata": {},
   "outputs": [
    {
     "name": "stderr",
     "output_type": "stream",
     "text": [
      "D:\\Python310\\lib\\site-packages\\pyglet\\image\\codecs\\wic.py:289: UserWarning: [WinError -2147417850] Cannot change thread mode after it is set\n",
      "  warnings.warn(str(err))\n"
     ]
    }
   ],
   "source": [
    "# Create a flag - restart or not\n",
    "done = True\n",
    "# Loop through each frame in the game\n",
    "for step in range(5000): \n",
    "    # Start the game to begin with \n",
    "    if done: \n",
    "        # Start the gamee\n",
    "        env.reset()\n",
    "    # Do random actions\n",
    "    state, reward, done, info = env.step(env.action_space.sample())\n",
    "    # Show the game on the screen\n",
    "    env.render()\n",
    "# Close the game\n",
    "env.close()"
   ]
  },
  {
   "cell_type": "markdown",
   "id": "0e8c2d58-392b-4e29-a6d4-ba15ac48cf83",
   "metadata": {
    "tags": []
   },
   "source": [
    "# Preproccess Environment"
   ]
  },
  {
   "cell_type": "code",
   "execution_count": 12,
   "id": "5ce93039",
   "metadata": {
    "collapsed": true,
    "jupyter": {
     "outputs_hidden": true
    },
    "tags": []
   },
   "outputs": [
    {
     "name": "stdout",
     "output_type": "stream",
     "text": [
      "Looking in indexes: https://pypi.org/simple, https://download.pytorch.org/whl/cu117\n",
      "Requirement already satisfied: torch in d:\\python310\\lib\\site-packages (1.13.0)\n",
      "Requirement already satisfied: torchvision in d:\\python310\\lib\\site-packages (0.14.0+cu117)\n",
      "Requirement already satisfied: torchaudio in d:\\python310\\lib\\site-packages (0.13.0+cu117)\n",
      "Requirement already satisfied: typing-extensions in d:\\python310\\lib\\site-packages (from torch) (4.4.0)\n",
      "Requirement already satisfied: pillow!=8.3.*,>=5.3.0 in d:\\python310\\lib\\site-packages (from torchvision) (9.3.0)\n",
      "Requirement already satisfied: requests in d:\\python310\\lib\\site-packages (from torchvision) (2.28.1)\n",
      "Requirement already satisfied: numpy in d:\\python310\\lib\\site-packages (from torchvision) (1.23.5)\n",
      "Requirement already satisfied: urllib3<1.27,>=1.21.1 in d:\\python310\\lib\\site-packages (from requests->torchvision) (1.26.13)\n",
      "Requirement already satisfied: idna<4,>=2.5 in d:\\python310\\lib\\site-packages (from requests->torchvision) (3.4)\n",
      "Requirement already satisfied: charset-normalizer<3,>=2 in d:\\python310\\lib\\site-packages (from requests->torchvision) (2.1.1)\n",
      "Requirement already satisfied: certifi>=2017.4.17 in d:\\python310\\lib\\site-packages (from requests->torchvision) (2022.9.24)\n"
     ]
    }
   ],
   "source": [
    "# !pip install torch torchvision torchaudio --extra-index-url https://download.pytorch.org/whl/cu117"
   ]
  },
  {
   "cell_type": "code",
   "execution_count": 11,
   "id": "2bb6cf6d",
   "metadata": {
    "collapsed": true,
    "jupyter": {
     "outputs_hidden": true
    },
    "tags": []
   },
   "outputs": [
    {
     "name": "stdout",
     "output_type": "stream",
     "text": [
      "Requirement already satisfied: stable-baselines3[extra] in d:\\python310\\lib\\site-packages (1.6.2)\n",
      "Requirement already satisfied: pandas in d:\\python310\\lib\\site-packages (from stable-baselines3[extra]) (1.5.2)\n",
      "Requirement already satisfied: gym==0.21 in d:\\python310\\lib\\site-packages (from stable-baselines3[extra]) (0.21.0)\n",
      "Requirement already satisfied: torch>=1.11 in d:\\python310\\lib\\site-packages (from stable-baselines3[extra]) (1.13.0)\n",
      "Requirement already satisfied: importlib-metadata~=4.13 in d:\\python310\\lib\\site-packages (from stable-baselines3[extra]) (4.13.0)\n",
      "Requirement already satisfied: matplotlib in d:\\python310\\lib\\site-packages (from stable-baselines3[extra]) (3.6.2)\n",
      "Requirement already satisfied: cloudpickle in d:\\python310\\lib\\site-packages (from stable-baselines3[extra]) (2.2.0)\n",
      "Requirement already satisfied: numpy in d:\\python310\\lib\\site-packages (from stable-baselines3[extra]) (1.23.5)\n",
      "Requirement already satisfied: pillow in d:\\python310\\lib\\site-packages (from stable-baselines3[extra]) (9.3.0)\n",
      "Requirement already satisfied: opencv-python in d:\\python310\\lib\\site-packages (from stable-baselines3[extra]) (4.6.0.66)\n",
      "Requirement already satisfied: ale-py==0.7.4 in d:\\python310\\lib\\site-packages (from stable-baselines3[extra]) (0.7.4)\n",
      "Requirement already satisfied: autorom[accept-rom-license]~=0.4.2 in d:\\python310\\lib\\site-packages (from stable-baselines3[extra]) (0.4.2)\n",
      "Requirement already satisfied: tensorboard>=2.9.1 in d:\\python310\\lib\\site-packages (from stable-baselines3[extra]) (2.11.0)\n",
      "Requirement already satisfied: tqdm in d:\\python310\\lib\\site-packages (from stable-baselines3[extra]) (4.64.1)\n",
      "Requirement already satisfied: psutil in d:\\python310\\lib\\site-packages (from stable-baselines3[extra]) (5.9.4)\n",
      "Requirement already satisfied: rich in d:\\python310\\lib\\site-packages (from stable-baselines3[extra]) (12.6.0)\n",
      "Requirement already satisfied: importlib-resources in d:\\python310\\lib\\site-packages (from ale-py==0.7.4->stable-baselines3[extra]) (5.10.1)\n",
      "Requirement already satisfied: requests in d:\\python310\\lib\\site-packages (from autorom[accept-rom-license]~=0.4.2->stable-baselines3[extra]) (2.28.1)\n",
      "Requirement already satisfied: click in d:\\python310\\lib\\site-packages (from autorom[accept-rom-license]~=0.4.2->stable-baselines3[extra]) (8.1.3)\n",
      "Requirement already satisfied: AutoROM.accept-rom-license in d:\\python310\\lib\\site-packages (from autorom[accept-rom-license]~=0.4.2->stable-baselines3[extra]) (0.4.2)\n",
      "Requirement already satisfied: zipp>=0.5 in d:\\python310\\lib\\site-packages (from importlib-metadata~=4.13->stable-baselines3[extra]) (3.11.0)\n",
      "Requirement already satisfied: google-auth-oauthlib<0.5,>=0.4.1 in d:\\python310\\lib\\site-packages (from tensorboard>=2.9.1->stable-baselines3[extra]) (0.4.6)\n",
      "Requirement already satisfied: setuptools>=41.0.0 in d:\\python310\\lib\\site-packages (from tensorboard>=2.9.1->stable-baselines3[extra]) (57.4.0)\n",
      "Requirement already satisfied: protobuf<4,>=3.9.2 in d:\\python310\\lib\\site-packages (from tensorboard>=2.9.1->stable-baselines3[extra]) (3.20.3)\n",
      "Requirement already satisfied: grpcio>=1.24.3 in d:\\python310\\lib\\site-packages (from tensorboard>=2.9.1->stable-baselines3[extra]) (1.51.1)\n",
      "Requirement already satisfied: absl-py>=0.4 in d:\\python310\\lib\\site-packages (from tensorboard>=2.9.1->stable-baselines3[extra]) (1.3.0)\n",
      "Requirement already satisfied: tensorboard-plugin-wit>=1.6.0 in d:\\python310\\lib\\site-packages (from tensorboard>=2.9.1->stable-baselines3[extra]) (1.8.1)\n",
      "Requirement already satisfied: google-auth<3,>=1.6.3 in d:\\python310\\lib\\site-packages (from tensorboard>=2.9.1->stable-baselines3[extra]) (2.15.0)\n",
      "Requirement already satisfied: wheel>=0.26 in d:\\python310\\lib\\site-packages (from tensorboard>=2.9.1->stable-baselines3[extra]) (0.38.4)\n",
      "Requirement already satisfied: markdown>=2.6.8 in d:\\python310\\lib\\site-packages (from tensorboard>=2.9.1->stable-baselines3[extra]) (3.4.1)\n",
      "Requirement already satisfied: werkzeug>=1.0.1 in d:\\python310\\lib\\site-packages (from tensorboard>=2.9.1->stable-baselines3[extra]) (2.2.2)\n",
      "Requirement already satisfied: tensorboard-data-server<0.7.0,>=0.6.0 in d:\\python310\\lib\\site-packages (from tensorboard>=2.9.1->stable-baselines3[extra]) (0.6.1)\n",
      "Requirement already satisfied: typing-extensions in d:\\python310\\lib\\site-packages (from torch>=1.11->stable-baselines3[extra]) (4.4.0)\n",
      "Requirement already satisfied: kiwisolver>=1.0.1 in d:\\python310\\lib\\site-packages (from matplotlib->stable-baselines3[extra]) (1.4.4)\n",
      "Requirement already satisfied: fonttools>=4.22.0 in d:\\python310\\lib\\site-packages (from matplotlib->stable-baselines3[extra]) (4.38.0)\n",
      "Requirement already satisfied: packaging>=20.0 in d:\\python310\\lib\\site-packages (from matplotlib->stable-baselines3[extra]) (21.3)\n",
      "Requirement already satisfied: python-dateutil>=2.7 in d:\\python310\\lib\\site-packages (from matplotlib->stable-baselines3[extra]) (2.8.2)\n",
      "Requirement already satisfied: pyparsing>=2.2.1 in d:\\python310\\lib\\site-packages (from matplotlib->stable-baselines3[extra]) (3.0.9)\n",
      "Requirement already satisfied: contourpy>=1.0.1 in d:\\python310\\lib\\site-packages (from matplotlib->stable-baselines3[extra]) (1.0.6)\n",
      "Requirement already satisfied: cycler>=0.10 in d:\\python310\\lib\\site-packages (from matplotlib->stable-baselines3[extra]) (0.11.0)\n",
      "Requirement already satisfied: pytz>=2020.1 in d:\\python310\\lib\\site-packages (from pandas->stable-baselines3[extra]) (2022.6)\n",
      "Requirement already satisfied: commonmark<0.10.0,>=0.9.0 in d:\\python310\\lib\\site-packages (from rich->stable-baselines3[extra]) (0.9.1)\n",
      "Requirement already satisfied: pygments<3.0.0,>=2.6.0 in d:\\python310\\lib\\site-packages (from rich->stable-baselines3[extra]) (2.13.0)\n",
      "Requirement already satisfied: colorama in d:\\python310\\lib\\site-packages (from tqdm->stable-baselines3[extra]) (0.4.6)\n",
      "Requirement already satisfied: six>=1.9.0 in d:\\python310\\lib\\site-packages (from google-auth<3,>=1.6.3->tensorboard>=2.9.1->stable-baselines3[extra]) (1.16.0)\n",
      "Requirement already satisfied: rsa<5,>=3.1.4 in d:\\python310\\lib\\site-packages (from google-auth<3,>=1.6.3->tensorboard>=2.9.1->stable-baselines3[extra]) (4.9)\n",
      "Requirement already satisfied: cachetools<6.0,>=2.0.0 in d:\\python310\\lib\\site-packages (from google-auth<3,>=1.6.3->tensorboard>=2.9.1->stable-baselines3[extra]) (5.2.0)\n",
      "Requirement already satisfied: pyasn1-modules>=0.2.1 in d:\\python310\\lib\\site-packages (from google-auth<3,>=1.6.3->tensorboard>=2.9.1->stable-baselines3[extra]) (0.2.8)\n",
      "Requirement already satisfied: requests-oauthlib>=0.7.0 in d:\\python310\\lib\\site-packages (from google-auth-oauthlib<0.5,>=0.4.1->tensorboard>=2.9.1->stable-baselines3[extra]) (1.3.1)\n",
      "Requirement already satisfied: certifi>=2017.4.17 in d:\\python310\\lib\\site-packages (from requests->autorom[accept-rom-license]~=0.4.2->stable-baselines3[extra]) (2022.9.24)\n",
      "Requirement already satisfied: charset-normalizer<3,>=2 in d:\\python310\\lib\\site-packages (from requests->autorom[accept-rom-license]~=0.4.2->stable-baselines3[extra]) (2.1.1)\n",
      "Requirement already satisfied: idna<4,>=2.5 in d:\\python310\\lib\\site-packages (from requests->autorom[accept-rom-license]~=0.4.2->stable-baselines3[extra]) (3.4)\n",
      "Requirement already satisfied: urllib3<1.27,>=1.21.1 in d:\\python310\\lib\\site-packages (from requests->autorom[accept-rom-license]~=0.4.2->stable-baselines3[extra]) (1.26.13)\n",
      "Requirement already satisfied: MarkupSafe>=2.1.1 in d:\\python310\\lib\\site-packages (from werkzeug>=1.0.1->tensorboard>=2.9.1->stable-baselines3[extra]) (2.1.1)\n",
      "Requirement already satisfied: pyasn1<0.5.0,>=0.4.6 in d:\\python310\\lib\\site-packages (from pyasn1-modules>=0.2.1->google-auth<3,>=1.6.3->tensorboard>=2.9.1->stable-baselines3[extra]) (0.4.8)\n",
      "Requirement already satisfied: oauthlib>=3.0.0 in d:\\python310\\lib\\site-packages (from requests-oauthlib>=0.7.0->google-auth-oauthlib<0.5,>=0.4.1->tensorboard>=2.9.1->stable-baselines3[extra]) (3.2.2)\n"
     ]
    }
   ],
   "source": [
    "# !pip install stable-baselines3[extra]"
   ]
  },
  {
   "cell_type": "code",
   "execution_count": 2,
   "id": "9ed18b3e",
   "metadata": {
    "tags": []
   },
   "outputs": [],
   "source": [
    "# Import Frame Stacker Wrapper and GrayScaling Wrapper\n",
    "from gym.wrappers import GrayScaleObservation\n",
    "# Import Vectorization Wrappers\n",
    "from stable_baselines3.common.vec_env import VecFrameStack, DummyVecEnv\n",
    "# Import Matplotlib to show the impact of frame stacking\n",
    "from matplotlib import pyplot as plt"
   ]
  },
  {
   "cell_type": "code",
   "execution_count": 13,
   "id": "af26a799-388b-4ed8-8938-8faf9494f084",
   "metadata": {},
   "outputs": [],
   "source": [
    "# Create the base environment\n",
    "env = gym_super_mario_bros.make('SuperMarioBros-v0')\n",
    "# Simplify the controlls\n",
    "env = JoypadSpace(env, SIMPLE_MOVEMENT)\n",
    "# Grayscale, we need the keep_dim=True to be able to use are Stack\n",
    "env = GrayScaleObservation(env, keep_dim=True)\n",
    "# Wrap inside the dummy environment\n",
    "env = DummyVecEnv([lambda: env])\n",
    "# Stack the frames\n",
    "env = VecFrameStack(env, 4, channels_order='last')"
   ]
  },
  {
   "cell_type": "code",
   "execution_count": 14,
   "id": "7f7265d9-f5b9-4516-b82d-9af6e150c753",
   "metadata": {},
   "outputs": [
    {
     "data": {
      "text/plain": [
       "(1, 240, 256, 4)"
      ]
     },
     "execution_count": 14,
     "metadata": {},
     "output_type": "execute_result"
    }
   ],
   "source": [
    "state = env.reset()\n",
    "state.shape"
   ]
  },
  {
   "cell_type": "code",
   "execution_count": 22,
   "id": "73ffc532-60a2-444a-941d-443dc306b29c",
   "metadata": {},
   "outputs": [],
   "source": [
    "state, reward, done, info = env.step([env.action_space.sample()])"
   ]
  },
  {
   "cell_type": "code",
   "execution_count": 23,
   "id": "cb176a2d-4232-4bfc-9c65-bb9e0cbef5a2",
   "metadata": {
    "tags": []
   },
   "outputs": [
    {
     "data": {
      "text/plain": [
       "<matplotlib.image.AxesImage at 0x1c7674dd720>"
      ]
     },
     "execution_count": 23,
     "metadata": {},
     "output_type": "execute_result"
    },
    {
     "data": {
      "image/png": "[encoded data removed]",
      "text/plain": [
       "<Figure size 640x480 with 1 Axes>"
      ]
     },
     "metadata": {},
     "output_type": "display_data"
    }
   ],
   "source": [
    "# Use Matplotlib ti show the game frame\n",
    "plt.imshow(state[0])"
   ]
  },
  {
   "cell_type": "markdown",
   "id": "5aefd32d-0485-439c-a7ae-af79084edc39",
   "metadata": {
    "tags": []
   },
   "source": [
    "# Train the RL Model"
   ]
  },
  {
   "cell_type": "code",
   "execution_count": 24,
   "id": "d7800db8-3ebe-481c-b700-80349ffe96f7",
   "metadata": {
    "tags": []
   },
   "outputs": [],
   "source": [
    "# Import os for file path management\n",
    "import os \n",
    "# Import PPO for algos\n",
    "from stable_baselines3 import PPO\n",
    "# Import Base Callback for saving models\n",
    "from stable_baselines3.common.callbacks import BaseCallback"
   ]
  },
  {
   "cell_type": "code",
   "execution_count": 25,
   "id": "7b139650-76b7-40c9-8a84-c08277d2e000",
   "metadata": {},
   "outputs": [],
   "source": [
    "# The model that allows us to save the modle every so and so... steps\n",
    "class TrainAndLoggingCallback(BaseCallback):\n",
    "\n",
    "    def __init__(self, check_freq, save_path, verbose=1):\n",
    "        \"\"\"\n",
    "        check_freq - how frequently we want save our model\n",
    "        save_path - where to save the model\n",
    "        \"\"\"\n",
    "        super(TrainAndLoggingCallback, self).__init__(verbose)\n",
    "        self.check_freq = check_freq\n",
    "        self.save_path = save_path\n",
    " \n",
    "    def _init_callback(self):\n",
    "        if self.save_path is not None:\n",
    "            os.makedirs(self.save_path, exist_ok=True)\n",
    "\n",
    "    def _on_step(self):\n",
    "        if self.n_calls % self.check_freq == 0:\n",
    "            model_path = os.path.join(self.save_path, 'best_model_{}'.format(self.n_calls))\n",
    "            self.model.save(model_path)\n",
    "\n",
    "        return True"
   ]
  },
  {
   "cell_type": "code",
   "execution_count": 26,
   "id": "1d40913d-b04f-4578-909f-b0c2a7bbc3a4",
   "metadata": {},
   "outputs": [],
   "source": [
    "CHECKPOINT_DIR = './train/'\n",
    "LOG_DIR = './logs/'"
   ]
  },
  {
   "cell_type": "code",
   "execution_count": 28,
   "id": "8450c498-f5a8-469b-9fd8-418ffba82859",
   "metadata": {},
   "outputs": [],
   "source": [
    "# Setup model saving callback\n",
    "callback = TrainAndLoggingCallback(check_freq=50000, save_path=CHECKPOINT_DIR)"
   ]
  },
  {
   "cell_type": "code",
   "execution_count": null,
   "id": "e5b54ca0-c3b9-4149-9a00-03f9a38d07a1",
   "metadata": {},
   "outputs": [],
   "source": [
    "# This is the AI model started\n",
    "# CnnPolicy - specific type of neural network that is reaally fast in proccessing images\n",
    "model = PPO('CnnPolicy', env, verbose=1, tensorboard_log=LOG_DIR, learning_rate=0.000001, \n",
    "            n_steps=512) \n"
   ]
  }
 ],
 "metadata": {
  "kernelspec": {
   "display_name": "Python 3 (ipykernel)",
   "language": "python",
   "name": "python3"
  },
  "language_info": {
   "codemirror_mode": {
    "name": "ipython",
    "version": 3
   },
   "file_extension": ".py",
   "mimetype": "text/x-python",
   "name": "python",
   "nbconvert_exporter": "python",
   "pygments_lexer": "ipython3",
   "version": "3.10.0"
  }
 },
 "nbformat": 4,
 "nbformat_minor": 5
}
